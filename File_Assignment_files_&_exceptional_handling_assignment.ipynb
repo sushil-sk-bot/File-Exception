{
  "nbformat": 4,
  "nbformat_minor": 0,
  "metadata": {
    "colab": {
      "provenance": []
    },
    "kernelspec": {
      "name": "python3",
      "display_name": "Python 3"
    },
    "language_info": {
      "name": "python"
    }
  },
  "cells": [
    {
      "cell_type": "code",
      "execution_count": null,
      "metadata": {
        "id": "isH9FLbfJd-2"
      },
      "outputs": [],
      "source": [
        "#QSN1- What is the difference between interpreted and compiled languages?\n",
        "\"\"\"\n",
        "Ans- Compiled Languages: Compiled languages are converted directly into machine code by a compiler before\n",
        "                        execution. The resulting executable file can be run directly by the computer's hardware.\n",
        "               Process: Source code → Compiler → Machine code (binary executable).\n",
        "                Examples: C, C++, Go, Rust.\n",
        "\n",
        "     Interpreted Languages: Interpreted languages are executed line-by-line or statement-by-statement by an\n",
        "                           interpreter at runtime.\n",
        "                  Process: Source code → Interpreter → Execution (at runtime).\n",
        "                  \"\"\""
      ]
    },
    {
      "cell_type": "code",
      "source": [
        "#QSN2- What is exception handling in Python?\n",
        "'''\n",
        "Ans- Exception handling in Python is a mechanism to handle runtime errors in a program, ensuring the\n",
        "     program does not crash unexpectedly. It allows developers to catch and respond to errors gracefully,\n",
        "     ensuring a smooth user experience.\n",
        "   Example:\n",
        "        try:\n",
        "    # Code that may raise an exception\n",
        "        except ExceptionType:\n",
        "    # Code to handle the exception\n",
        "    '''"
      ],
      "metadata": {
        "id": "bo8Rn_KAKWfx"
      },
      "execution_count": null,
      "outputs": []
    },
    {
      "cell_type": "code",
      "source": [
        "#QSN3- What is the purpose of the finally block in exception handling?\n",
        "'''\n",
        "Answ- The purpose of the finally block in Python exception handling is to ensure that a block of code is\n",
        "      executed no matter what happens—whether an exception is raised or not. This makes it ideal for\n",
        "      performing cleanup operations like closing files, releasing resources, or resetting states, regardless\n",
        "      of the outcome of the preceding code.\n",
        "      Synatx:\n",
        "      try:\n",
        "    # Code that might raise an exception\n",
        "except ExceptionType:\n",
        "    # Handle specific exception\n",
        "else:\n",
        "    # Code to execute if no exception occurs\n",
        "finally:\n",
        "    # Code that always runs\n",
        "    '''"
      ],
      "metadata": {
        "id": "betdFuGtKxDM"
      },
      "execution_count": null,
      "outputs": []
    },
    {
      "cell_type": "code",
      "source": [
        "#QSN4-  What is logging in Python?\n",
        "'''\n",
        "Answ- Logging in Python refers to a mechanism for tracking events that happen during the execution of a\n",
        "      program. It helps developers record program flow, debug issues, and monitor applications. The\n",
        "      logging module in Python provides a flexible framework to log messages at different severity levels,\n",
        "      which can be directed to various outputs such as the console, files, or external systems.\n",
        "      Example:\n",
        "\n",
        "      import logging\n",
        "\n",
        "# Basic configuration for logging\n",
        "logging.basicConfig(level=logging.DEBUG, format='%(asctime)s - %(levelname)s - %(message)s')\n",
        "\n",
        "# Logging at different levels\n",
        "logging.debug(\"This is a debug message.\")\n",
        "logging.info(\"This is an info message.\")\n",
        "logging.warning(\"This is a warning message.\")\n",
        "logging.error(\"This is an error message.\")\n",
        "logging.critical(\"This is a critical message.\")\n",
        "OUTPUT:\n",
        "2024-12-05 10:00:00,123 - DEBUG - This is a debug message.\n",
        "2024-12-05 10:00:00,124 - INFO - This is an info message.\n",
        "2024-12-05 10:00:00,125 - WARNING - This is a warning message.\n",
        "2024-12-05 10:00:00,126 - ERROR - This is an error message.\n",
        "2024-12-05 10:00:00,127 - CRITICAL - This is a critical message.\n",
        "'''"
      ],
      "metadata": {
        "id": "ezNiI_WJLJIT"
      },
      "execution_count": null,
      "outputs": []
    },
    {
      "cell_type": "code",
      "source": [
        "#QSN5- What is the significance of the __del__ method in Python?\n",
        "'''\n",
        "Ans- The __del__ method in Python, also known as the destructor, is a special method that is called\n",
        "     when an object is about to be destroyed. Its primary role is to allow developers to define cleanup\n",
        "     actions (like releasing resources) before the object is deleted and its memory is reclaimed by the\n",
        "     garbage collector.\n",
        "\n",
        "     Eaxmple:\n",
        "     class FileHandler:\n",
        "    def __init__(self, file_name):\n",
        "        self.file_name = file_name\n",
        "        self.file = open(file_name, 'w')\n",
        "        print(f\"{file_name} opened for writing.\")\n",
        "\n",
        "    def write(self, data):\n",
        "        self.file.write(data)\n",
        "\n",
        "    def __del__(self):\n",
        "        # Ensure file is closed when the object is destroyed\n",
        "        if self.file:\n",
        "            print(f\"Closing file: {self.file_name}\")\n",
        "            self.file.close()\n",
        "\n",
        "       # Creating and using the object\n",
        "       handler = FileHandler('example.txt')\n",
        "       handler.write(\"Hello, World!\")\n",
        "\n",
        "       # Deleting the object explicitly\n",
        "       del handler\n",
        "\n",
        "       example.txt opened for writing.\n",
        "      Closing file: example.txt\n",
        "      '''"
      ],
      "metadata": {
        "id": "6_OfNmNfLg2c"
      },
      "execution_count": null,
      "outputs": []
    },
    {
      "cell_type": "code",
      "source": [
        "#QSN6- What is the difference between import and from ... import in Python?\n",
        "'''\n",
        "Ans- import Statement :\n",
        "     Imports the entire module, giving you access to all its contents using the module's namespace.\n",
        "     Synatx: import module_name\n",
        "     Example:\n",
        "     import math\n",
        "\n",
        "     # Accessing a function using the module's namespace\n",
        "     result = math.sqrt(16)\n",
        "     print(result)  # Output: 4.0\n",
        "\n",
        "     from ... import Statement:\n",
        "     Imports specific components (e.g., functions, classes, variables) from a module directly into your namespace.\n",
        "     Example:\n",
        "     from math import sqrt\n",
        "\n",
        "# Accessing the imported function directly\n",
        "result = sqrt(16)\n",
        "print(result)  # Output: 4.0\n",
        "'''"
      ],
      "metadata": {
        "id": "IXEmcFm9L9wT"
      },
      "execution_count": null,
      "outputs": []
    },
    {
      "cell_type": "code",
      "source": [
        "#QSN7- How can you handle multiple exceptions in Python?\n",
        "'''\n",
        "Ans- Below are the example to handle multiple Exception .\n",
        "Example:\n",
        "try:\n",
        "    num = int(input(\"Enter a number: \"))\n",
        "    result = 10 / num\n",
        "except ValueError:\n",
        "    print(\"Invalid input. Please enter a valid number.\")\n",
        "except ZeroDivisionError:\n",
        "    print(\"Cannot divide by zero.\")\n",
        "    '''"
      ],
      "metadata": {
        "id": "2vgeKYP2Matk"
      },
      "execution_count": null,
      "outputs": []
    },
    {
      "cell_type": "code",
      "source": [
        "#QSN8- What is the purpose of the with statement when handling files in Python?\n",
        "'''\n",
        "Ans- The with statement in Python is used to handle resources like files more effectively by ensuring that\n",
        "     resources are properly acquired and released, even if an error occurs during processing. It simplifies\n",
        "     file handling and is commonly used with the open function for working with files.\n",
        "\n",
        "     Key Purposes of the with Statement:\n",
        "      file = open('example.txt', 'r')\n",
        "try:\n",
        "    content = file.read()\n",
        "finally:\n",
        "    file.close()\n",
        "    '''"
      ],
      "metadata": {
        "id": "gRYuWkoRM-U9"
      },
      "execution_count": null,
      "outputs": []
    },
    {
      "cell_type": "code",
      "source": [
        "#QSN9- What is the difference between multithreading and multiprocessing?\n",
        "'''\n",
        "Ans- Multithreading :\n",
        "    *Uses multiple threads (lightweight processes) within a single process.\n",
        "    *Threads share the same memory space and resources of the parent process.\n",
        "    *Suitable for I/O-bound tasks where threads spend significant time waiting for external operations (e.g., file, network).\n",
        "\n",
        "    Multiprocessing:\n",
        "    *Uses multiple processes, each with its own memory space.\n",
        "    *Processes are independent and do not share memory directly.\n",
        "    *Suitable for CPU-bound tasks that require heavy computation.\n",
        "    '''"
      ],
      "metadata": {
        "id": "m-nBWLciNY-m"
      },
      "execution_count": null,
      "outputs": []
    },
    {
      "cell_type": "code",
      "source": [
        "#QSN10- What are the advantages of using logging in a program?\n",
        "'''\n",
        "Ans- Using logging in a program provides several advantages, especially for debugging, monitoring, and\n",
        "     maintaining code. Here's an overview of the key benefits:\n",
        "     1- Debugging and Troubleshooting\n",
        "     2-  Improved Code Maintenance\n",
        "     3- Monitoring and Auditing\n",
        "     4- Persistent Records\n",
        "     5-  Flexible Output\n",
        "     6- Adjustable Logging Levels\n",
        "     7-  Supports Asynchronous Operations\n",
        "\n",
        " example:\n",
        "\n",
        " import logging\n",
        "\n",
        "# Configure logging\n",
        "logging.basicConfig(level=logging.DEBUG,\n",
        "                    format='%(asctime)s - %(levelname)s - %(message)s',\n",
        "                    filename='app.log',\n",
        "                    filemode='w')\n",
        "\n",
        "# Example usage\n",
        "logging.debug(\"This is a debug message.\")\n",
        "logging.info(\"This is an informational message.\")\n",
        "logging.warning(\"This is a warning.\")\n",
        "logging.error(\"This is an error.\")\n",
        "logging.critical(\"This is a critical error.\")\n",
        "\n",
        "2024-12-05 14:00:00 - DEBUG - This is a debug message.\n",
        "2024-12-05 14:00:01 - INFO - This is an informational message.\n",
        "2024-12-05 14:00:02 - WARNING - This is a warning.\n",
        "2024-12-05 14:00:03 - ERROR - This is an error.\n",
        "2024-12-05 14:00:04 - CRITICAL - This is a critical error.\n",
        "'''"
      ],
      "metadata": {
        "id": "2L2ERo2eNy1L"
      },
      "execution_count": null,
      "outputs": []
    },
    {
      "cell_type": "code",
      "source": [
        "#QSN11- What is memory management in Python?\n",
        "'''\n",
        "Ans- Memory management in Python refers to the process of allocating, tracking, and freeing memory\n",
        "     during the execution of a Python program. Python handles memory management automatically\n",
        "     using built-in mechanisms, but it still relies on certain principles that can be useful for developers to\n",
        "     understand. Here's a detailed breakdown of how memory management works in Python:\n",
        "     1- Memory Allocation\n",
        "     2- Automatic Memory Management\n",
        "     3- Memory Pools (Internal Allocation)\n",
        "     4- Python Object Management\n",
        "     5- del and Memory Management\n",
        "     '''"
      ],
      "metadata": {
        "id": "19W18KQlOYZT"
      },
      "execution_count": null,
      "outputs": []
    },
    {
      "cell_type": "code",
      "source": [
        "#QSN12- What are the basic steps involved in exception handling in Python?\n",
        "'''\n",
        "Ans- Bsic steps involved in exception handling are : try, except, else, and finally blocks\n",
        "Example:\n",
        "\n",
        "try:\n",
        "    # Trying to open a file and read data\n",
        "    f = open(\"file.txt\", \"r\")\n",
        "    data = f.read()\n",
        "    print(data)\n",
        "except FileNotFoundError:\n",
        "    print(\"Error: File not found!\")\n",
        "except Exception as e:\n",
        "    print(f\"An unexpected error occurred: {e}\")\n",
        "else:\n",
        "    print(\"File read successfully.\")\n",
        "finally:\n",
        "    print(\"Execution complete.\")\n",
        "    '''"
      ],
      "metadata": {
        "id": "f6m90wybOygz"
      },
      "execution_count": null,
      "outputs": []
    },
    {
      "cell_type": "code",
      "source": [
        "#QSN13- Why is memory management important in Python?\n",
        "'''\n",
        "Ans- Memory management is crucial in Python (and any programming language) for several reasons.\n",
        "    Effective memory management ensures that a program runs efficiently, utilizes system resources\n",
        "    optimally, and avoids problems such as memory leaks or crashes. Here are some key reasons why\n",
        "    some key reasons why memory management is important in Python:\n",
        "\n",
        "    1- Efficient Resource Utilization\n",
        "    2- Preventing Memory Leaks\n",
        "    3-  Handling Large Data Structures\n",
        "    4-  Reducing Fragmentation\n",
        "    5-  Improving Program Stability\n",
        "    6- Simplifying Debugging and Profiling\n",
        "    7- Enabling Scalability\n",
        "    8- Python's Memory Management Tools\n",
        "    9- Handling Multiple Processes and Threads\n",
        "    '''"
      ],
      "metadata": {
        "id": "C5Avw1OFPJ5y"
      },
      "execution_count": null,
      "outputs": []
    },
    {
      "cell_type": "code",
      "source": [
        "#QSN14-  What is the role of try and except in exception handling?\n",
        "'''\n",
        "Ans-  The Role of try Block:The try block is used to define the code that might raise an exception. Python executes all the\n",
        "      statements inside the try block, and if an error occurs, it immediately transfers control to the\n",
        "      corresponding except block (if one exists). The purpose of the try block is to attempt an\n",
        "      operation that might fail, and allow the program to handle the failure gracefully without crashing.\n",
        "      Example:\n",
        "      try:\n",
        "    # Trying to divide by zero\n",
        "    result = 10 / 0\n",
        "\n",
        "     The Role of except Block:\n",
        "     The except block is used to catch and handle exceptions that are raised in the try block. When an\n",
        "     exception occurs, the except block is executed, and the program can recover from the error in a\n",
        "     controlled way. You can catch specific exceptions (like ZeroDivisionError) or a more general\n",
        "     Exception to catch any error that occurs.\n",
        "     Example:\n",
        "     try:\n",
        "    result = 10 / 0\n",
        "     except ZeroDivisionError:\n",
        "    print(\"Error: Division by zero!\")\n",
        "    '''"
      ],
      "metadata": {
        "id": "vWttH2HCPtNd"
      },
      "execution_count": null,
      "outputs": []
    },
    {
      "cell_type": "code",
      "source": [
        "#QSN15- How does Python's garbage collection system work?\n",
        "'''\n",
        "Ans- Python’s garbage collection system is responsible for automatically managing memory by reclaiming\n",
        "    memory that is no longer in use. It helps prevent memory leaks, where memory that is no longer\n",
        "    needed is not released, and ensures efficient memory usage. Here's an overview of how Python’sgarbage collection system works:\n",
        "    1- Reference Counting\n",
        "    2- Cyclic Garbage Collection\n",
        "    3- Generational Garbage Collection\n",
        "    4- The gc Module\n",
        "    '''"
      ],
      "metadata": {
        "id": "EVraldFVQSOJ"
      },
      "execution_count": null,
      "outputs": []
    },
    {
      "cell_type": "code",
      "source": [
        "#QSN16- What is the purpose of the else block in exception handling?\n",
        "'''\n",
        "Ans- the else block is an optional part of a try-except structure that executes\n",
        "    when no exception is raised in the try block. It is used to define code that\n",
        "    should run only if the try block is successful (i.e., no exception occurs).\n",
        "    Example:\n",
        "    try:\n",
        "    num1 = int(input(\"Enter a number: \"))\n",
        "    num2 = int(input(\"Enter another number: \"))\n",
        "    result = num1 / num2  # May raise ZeroDivisionError or ValueError\n",
        "    except ValueError:\n",
        "    print(\"Invalid input! Please enter valid numbers.\")\n",
        "    except ZeroDivisionError:\n",
        "    print(\"Error: Cannot divide by zero!\")\n",
        "    else:\n",
        "    print(f\"The result is: {result}\")\n",
        "    '''"
      ],
      "metadata": {
        "id": "SlA5g2dmRxUj"
      },
      "execution_count": null,
      "outputs": []
    },
    {
      "cell_type": "code",
      "source": [
        "#QSN17- What are the common logging levels in Python?\n",
        "'''\n",
        "Ans- Here are the common logging levels in Python:\n",
        "   1- DEBUG:\n",
        "   2- INFO\n",
        "   3- WARNING\n",
        "   4- ERROR\n",
        "   5- CRITICAL\n",
        "   Example:\n",
        "\n",
        "   import logging\n",
        "\n",
        "# Set logging level to 'INFO' (this will show INFO, WARNING, ERROR, and CRITICAL logs)\n",
        "logging.basicConfig(level=logging.INFO)\n",
        "\n",
        "logging.debug(\"This is a debug message\")  # Won't be shown\n",
        "logging.info(\"This is an info message\")   # Will be shown\n",
        "logging.warning(\"This is a warning message\")  # Will be shown\n",
        "logging.error(\"This is an error message\")  # Will be shown\n",
        "logging.critical(\"This is a critical message\")  # Will be shown\n",
        "'''"
      ],
      "metadata": {
        "id": "zu3557L0SMaJ"
      },
      "execution_count": null,
      "outputs": []
    },
    {
      "cell_type": "code",
      "source": [
        "#QSN18- What is the difference between os.fork() and multiprocessing in Python?\n",
        "'''\n",
        "Ans- os.fork():\n",
        "     os.fork() is a low-level system call used to create a new process by duplicating the current\n",
        "     process. The child process gets a copy of the parent process's memory space, and both processes\n",
        "     continue executing from the point where os.fork() was called. It is available only on Unix-like\n",
        "     operating systems (e.g., Linux, macOS) and is not supported on Windows.\n",
        "     Example:\n",
        "     import os\n",
        "\n",
        "pid = os.fork()\n",
        "\n",
        "if pid > 0:\n",
        "    # Parent process\n",
        "    print(\"This is the parent process.\")\n",
        "else:\n",
        "    # Child process\n",
        "    print(\"This is the child process.\")\n",
        "\n",
        "    Multiprocessing:\n",
        "    The multiprocessing module provides a higher-level and more flexible approach to creating and\n",
        "    managing processes. It abstracts many of the complexities of process creation and management,\n",
        "    allowing the creation of parallel tasks in a way that works across all platforms, including Windows,\n",
        "    macOS, and Linux.\n",
        "\n",
        "    Example:\n",
        "\n",
        "    import multiprocessing\n",
        "\n",
        "def worker(name):\n",
        "    print(f\"Worker {name} is working\")\n",
        "\n",
        "if __name__ == '__main__':\n",
        "    # Create a Process object and start the process\n",
        "    p1 = multiprocessing.Process(target=worker, args=('A',))\n",
        "    p2 = multiprocessing.Process(target=worker, args=('B',))\n",
        "\n",
        "    p1.start()\n",
        "    p2.start()\n",
        "\n",
        "    p1.join()\n",
        "    p2.join()\n",
        "\n",
        "    print(\"Both processes are done.\")\n",
        "    '''\n"
      ],
      "metadata": {
        "id": "VpFSot3ISrjR"
      },
      "execution_count": null,
      "outputs": []
    },
    {
      "cell_type": "code",
      "source": [
        "#QSN19- What is the importance of closing a file in Python?\n",
        "'''\n",
        "Ans- Closing a file in Python is important for several reasons, mainly related to resource management,\n",
        "     data integrity, and system performance. Here’s a detailed explanation of the importance of closing a file:\n",
        "     1- Release System Resources:\n",
        "     2- Ensure Data Integrity:\n",
        "     3- Prevent Memory Leaks:\n",
        "     4- Avoid File Locking Issues:\n",
        "     5- Proper Error Handling:\n",
        "     '''"
      ],
      "metadata": {
        "id": "6rrTpThpTVXC"
      },
      "execution_count": null,
      "outputs": []
    },
    {
      "cell_type": "code",
      "source": [
        "#QSN20- What is the difference between file.read() and file.readline() in Python?\n",
        "'''\n",
        "Ans- In Python, both file.read() and file.readline() are used to read data from a file, but they\n",
        "     operate differently. Here's a breakdown of the differences between them:\n",
        "     Example of file.read():\n",
        "     with open('example.txt', 'r') as file:\n",
        "    content = file.read()  # Reads the whole file\n",
        "    print(content)\n",
        "\n",
        "    file.readline():\n",
        "    example :\n",
        "    with open('example.txt', 'r') as file:\n",
        "    line = file.readline()  # Reads one line at a time\n",
        "    print(line)  # Output: First line of the file\n",
        "    '''"
      ],
      "metadata": {
        "id": "wRu6vvxUTpzI"
      },
      "execution_count": null,
      "outputs": []
    },
    {
      "cell_type": "code",
      "source": [
        "#QSN21- What is the logging module in Python used for?\n",
        "'''\n",
        "Ans- The logging module in Python is used for generating and handling log messages in a program. It\n",
        "     provides a flexible framework for writing log messages to different outputs (such as console, files,\n",
        "     remote servers) and categorizing them by severity levels (e.g., DEBUG, INFO, WARNING, ERROR,\n",
        "     CRITICAL). It helps in monitoring and debugging the program during development and production.\n",
        "\n",
        "     Example:\n",
        "     import logging\n",
        "\n",
        "# Set up basic configuration for logging\n",
        "logging.basicConfig(level=logging.DEBUG, format='%(asctime)s - %(levelname)s - %(message)s')\n",
        "\n",
        "# Logging messages at different levels\n",
        "logging.debug(\"This is a debug message\")\n",
        "logging.info(\"This is an info message\")\n",
        "logging.warning(\"This is a warning message\")\n",
        "logging.error(\"This is an error message\")\n",
        "logging.critical(\"This is a critical message\")\n",
        "\n",
        "OutPut:\n",
        "\n",
        "2024-12-05 12:34:56,789 - DEBUG - This is a debug message\n",
        "2024-12-05 12:34:56,790 - INFO - This is an info message\n",
        "2024-12-05 12:34:56,791 - WARNING - This is a warning message\n",
        "2024-12-05 12:34:56,791 - ERROR - This is an error message\n",
        "2024-12-05 12:34:56,792 - CRITICAL - This is a critical message\n",
        "'''"
      ],
      "metadata": {
        "id": "kq-L8WnPUcvK"
      },
      "execution_count": null,
      "outputs": []
    },
    {
      "cell_type": "code",
      "source": [
        "#QSN22- What is the os module in Python used for in file handling?\n",
        "'''\n",
        "Ans- The os module in Python provides a way to interact with the operating system, and it includes\n",
        "     several functions that are useful for file handling. It allows you to perform operations like creating,\n",
        "     deleting, renaming files and directories, checking for the existence of files or directories, and\n",
        "     manipulating file paths.\n",
        "\n",
        "     Key Uses of the os Module in File Handling:\n",
        "     1- Working with File Paths:\n",
        "     Ex: import os\n",
        "     path = os.path.join('folder', 'file.txt')\n",
        "     print(os.path.exists(path))  # Check if file exists\n",
        "     print(os.path.basename(path))  # Get file name (file.txt)\n",
        "\n",
        "     2- File and Directory Creation:\n",
        "     Ex: import os\n",
        "      os.mkdir('new_folder')  # Creates a new directory\n",
        "      os.makedirs('new_folder/nested_folder')  # Creates nested directories\n",
        "\n",
        "      3- File Deletion:\n",
        "      Ex: import os\n",
        "     os.remove('file.txt')  # Deletes the file\n",
        "      os.rmdir('empty_folder')  # Removes an empty directory\n",
        "\n",
        "      4- Renaming or Moving Files:\n",
        "      Ex: import os\n",
        "          os.rename('old_file.txt', 'new_file.txt')  # Renames the file\n",
        "\n",
        "      5- Navigating the File System:\n",
        "      Ex: import os\n",
        "        os.chdir('/path/to/directory')  # Changes the current working directory\n",
        "        print(os.getcwd())  # Prints the current working directory\n",
        "        print(os.listdir())  # Lists all files and directories in the current directory\n",
        "        '''"
      ],
      "metadata": {
        "id": "u-OhDUYZU3FA"
      },
      "execution_count": null,
      "outputs": []
    },
    {
      "cell_type": "code",
      "source": [
        "#QSN23- What are the challenges associated with memory management in Python?\n",
        "'''\n",
        "Ans- Memory management in Python is an important aspect of program performance and efficiency.\n",
        "     While Python handles many memory management tasks automatically (such as garbage collection),\n",
        "     there are still several challenges that developers may encounter, especially in large-scale applications\n",
        "     or with certain types of operations. Here are the key challenges associated with memory\n",
        "     management in Python:\n",
        "     1- Automatic Garbage Collection:\n",
        "     2- Circular References:\n",
        "     3- Memory Leaks:\n",
        "     4- Large Data Structures:\n",
        "     5-  Memory Fragmentation:\n",
        "     6- Inconsistent Memory Management Between CPython and Other Implementations:\n",
        "     7- Overhead of Object Creation:\n",
        "     8- External Libraries and C Extensions:\n",
        "     9- Handling Large Files and Streams:\n",
        "     10- Memory Profiling and Debugging:\n",
        "     '''"
      ],
      "metadata": {
        "id": "4ATpa-BbWLEw"
      },
      "execution_count": null,
      "outputs": []
    },
    {
      "cell_type": "code",
      "source": [
        "#QSN24- How do you raise an exception manually in Python?\n",
        "'''\n",
        "Ans- Syntax:\n",
        "    raise ExceptionType(\"Error message\")\n",
        "Example 1: Raising a Generic Exception:\n",
        "  raise Exception(\"Something went wrong\")\n",
        "\n",
        "  Example 2: Raising a Specific Exception\n",
        "  raise ValueError(\"Invalid value\")\n",
        "\n",
        "  Example 3: Raising Custom Exceptions\n",
        "  class MyCustomError(Exception):\n",
        "    pass\n",
        "\n",
        "raise MyCustomError(\"This is a custom error\")\n",
        "'''\n",
        "\n",
        "\n",
        "\n"
      ],
      "metadata": {
        "id": "E4sDwNU3Ws9Y"
      },
      "execution_count": null,
      "outputs": []
    },
    {
      "cell_type": "code",
      "source": [
        "#QSN25- Why is it important to use multithreading in certain applications?\n",
        "'''\n",
        "Ans- Multithreading is an important technique for improving performance and responsiveness in certain\n",
        "types of applications. Here are several reasons why it's essential to use multithreading in specific\n",
        "applications:\n",
        "1- Improved Performance Through Parallelism:\n",
        "2- Enhanced Responsiveness:\n",
        "3- Efficient Utilization of Multi-core Processors:\n",
        "4- Non-blocking I/O Operations:\n",
        "5- Real-time and Concurrent Task Execution:\n",
        "6- Improved Resource Management:\n",
        "7- Handling Independent Tasks Simultaneously:\n",
        "8-  Scalability:\n",
        "9- Cost Efficiency:\n",
        "10- Avoiding Global Interpreter Lock (GIL) Limitations (for Python):\n",
        "'''"
      ],
      "metadata": {
        "id": "sxlrEzETXHJh"
      },
      "execution_count": null,
      "outputs": []
    },
    {
      "cell_type": "code",
      "source": [],
      "metadata": {
        "id": "-1udliWzZLsy"
      },
      "execution_count": null,
      "outputs": []
    },
    {
      "cell_type": "markdown",
      "source": [
        "Practical Question:"
      ],
      "metadata": {
        "id": "SwPh52MXZMBY"
      }
    },
    {
      "cell_type": "code",
      "source": [
        "#QSN1- How can you open a file for writing in Python and write a string to it?\n",
        "'''\n",
        "Ans- # Open the file for writing (this will create the file if it doesn't exist, or overwrite it if it does)\n",
        "      with open('example.txt', 'w') as file:\n",
        "    # Write a string to the file\n",
        "    file.write(\"Hello, this is a test string!\")\n",
        "    '''"
      ],
      "metadata": {
        "id": "QA1ydhnYZPsR"
      },
      "execution_count": null,
      "outputs": []
    },
    {
      "cell_type": "code",
      "source": [
        "#QSN2- Write a Python program to read the contents of a file and print each line?\n",
        "'''\n",
        "Ans- # Open the file for reading\n",
        "     with open('example.txt', 'r') as file:\n",
        "    # Read and print each line in the file\n",
        "    for line in file:\n",
        "        print(line, end='')  # end='' prevents an extra newline after each line\n",
        "        '''"
      ],
      "metadata": {
        "id": "PwoeAmLKZkiz"
      },
      "execution_count": null,
      "outputs": []
    },
    {
      "cell_type": "code",
      "source": [
        "#QSN3- How would you handle a case where the file doesn't exist while trying to open it for reading?\n",
        "'''\n",
        "Ans- To handle the case where a file doesn't exist while trying to open it for reading, we can use a try-\n",
        "     except block to catch the FileNotFoundError.\n",
        "     Example:\n",
        "\n",
        "     try:\n",
        "    # Try to open the file for reading\n",
        "    with open('example.txt', 'r') as file:\n",
        "        # Read and print each line\n",
        "        for line in file:\n",
        "            print(line, end='')\n",
        "except FileNotFoundError:\n",
        "    print(\"The file 'example.txt' does not exist.\")\n",
        "    '''"
      ],
      "metadata": {
        "id": "upRUverAZvtJ"
      },
      "execution_count": null,
      "outputs": []
    },
    {
      "cell_type": "code",
      "source": [
        "#QSN4- Write a Python script that reads from one file and writes its content to another file?\n",
        "'''\n",
        "Ans- # Open the source file for reading and the destination file for writing\n",
        "try:\n",
        "    with open('source.txt', 'r') as source_file:\n",
        "        with open('destination.txt', 'w') as destination_file:\n",
        "            # Read from the source file and write to the destination file\n",
        "            content = source_file.read()\n",
        "            destination_file.write(content)\n",
        "            print(\"Content successfully copied from 'source.txt' to 'destination.txt'.\")\n",
        "except FileNotFoundError:\n",
        "    print(\"One of the files ('source.txt' or 'destination.txt') does not exist.\")\n",
        "except Exception as e:\n",
        "    print(f\"An error occurred: {e}\")\n",
        "    '''"
      ],
      "metadata": {
        "id": "tH2zOEqEaE_M"
      },
      "execution_count": null,
      "outputs": []
    },
    {
      "cell_type": "code",
      "source": [
        "#QSN5- How would you catch and handle division by zero error in Python?\n",
        "'''\n",
        "Ans- We can catch and handle a division by zero error using a try-except block.\n",
        "Example:\n",
        "\n",
        "try:\n",
        "    # Try dividing two numbers\n",
        "    numerator = 10\n",
        "    denominator = 0\n",
        "    result = numerator / denominator\n",
        "    print(f\"The result is {result}\")\n",
        "except ZeroDivisionError:\n",
        "    print(\"Error: Division by zero is not allowed.\")\n",
        "    '''"
      ],
      "metadata": {
        "id": "4edhaZZ4aPzJ"
      },
      "execution_count": null,
      "outputs": []
    },
    {
      "cell_type": "code",
      "source": [
        "#QSN6- Write a Python program that logs an error message to a log file when a division by zero exception occurs?\n",
        "'''\n",
        "Ans- import logging\n",
        "\n",
        "# Configure the logging module to write log messages to a file\n",
        "logging.basicConfig(filename='error_log.txt', level=logging.ERROR,\n",
        "                    format='%(asctime)s - %(levelname)s - %(message)s')\n",
        "\n",
        "try:\n",
        "    # Try dividing two numbers\n",
        "    numerator = 10\n",
        "    denominator = 0\n",
        "    result = numerator / denominator\n",
        "    print(f\"The result is {result}\")\n",
        "except ZeroDivisionError as e:\n",
        "    # Log the error message when division by zero occurs\n",
        "    logging.error(\"Attempted to divide by zero. Exception: %s\", e)\n",
        "    print(\"Error: Division by zero occurred, and it has been logged.\")\n",
        "    '''"
      ],
      "metadata": {
        "id": "96wX5IEBafKI"
      },
      "execution_count": null,
      "outputs": []
    },
    {
      "cell_type": "code",
      "source": [
        "#QSN7- How do you log information at different levels (INFO, ERROR, WARNING) in Python using the logging module?\n",
        "'''\n",
        "Ans: The logging module in Python allows you to log messages at various levels of severity, such as\n",
        "     INFO, ERROR, and WARNING. Each level is used to indicate the importance or severity of the log\n",
        "     message. Here’s how you can log information at these different levels:\n",
        "\n",
        "     Basic Setup of Logging:\n",
        "     import logging\n",
        "\n",
        "# Configure logging to display messages at all levels (INFO and above)\n",
        "logging.basicConfig(level=logging.DEBUG,\n",
        "                    format='%(asctime)s - %(levelname)s - %(message)s')\n",
        "\n",
        "# Example logs at different levels\n",
        "logging.debug(\"This is a DEBUG message\")   # Used for detailed debugging info\n",
        "logging.info(\"This is an INFO message\")    # Used for general information\n",
        "logging.warning(\"This is a WARNING message\")  # Used for warnings or minor issues\n",
        "logging.error(\"This is an ERROR message\")    # Used for errors that occur\n",
        "logging.critical(\"This is a CRITICAL message\")  # Used for very severe errors\n",
        "\n",
        "\n",
        "Example with Logging at Different Levels:\n",
        "import logging\n",
        "\n",
        "# Configure logging to save logs to a file and show them on the console\n",
        "logging.basicConfig(filename='app.log', level=logging.DEBUG,\n",
        "                    format='%(asctime)s - %(levelname)s - %(message)s')\n",
        "\n",
        "# Logging different levels\n",
        "logging.debug(\"This is a DEBUG message.\")\n",
        "logging.info(\"This is an INFO message.\")\n",
        "logging.warning(\"This is a WARNING message.\")\n",
        "logging.error(\"This is an ERROR message.\")\n",
        "logging.critical(\"This is a CRITICAL message.\")\n",
        "'''"
      ],
      "metadata": {
        "id": "UKYY5Qcqasc7"
      },
      "execution_count": null,
      "outputs": []
    },
    {
      "cell_type": "code",
      "source": [
        "#QSN8- Write a program to handle a file opening error using exception handling?\n",
        "'''\n",
        "Ans- try:\n",
        "    # Attempt to open a file that may not exist\n",
        "    with open('non_existent_file.txt', 'r') as file:\n",
        "        content = file.read()\n",
        "        print(content)\n",
        "except FileNotFoundError:\n",
        "    print(\"Error: The file you are trying to open does not exist.\")\n",
        "except IOError:\n",
        "    print(\"Error: An unexpected I/O error occurred.\")\n",
        "    '''"
      ],
      "metadata": {
        "id": "ecAp0Bw0bsYY"
      },
      "execution_count": null,
      "outputs": []
    },
    {
      "cell_type": "code",
      "source": [
        "#QSN9- How can you read a file line by line and store its content in a list in Python?\n",
        "'''\n",
        "Ans- # Open the file and read it line by line\n",
        "with open('example.txt', 'r') as file:\n",
        "    lines = file.readlines()\n",
        "\n",
        "# Print the list containing the lines\n",
        "print(lines)\n",
        "OutPut:\n",
        "['Hello, World!\\n', 'This is a test file.\\n', 'Python is awesome!\\n']\n",
        "'''"
      ],
      "metadata": {
        "id": "Ml7v5Qpxb9fI"
      },
      "execution_count": null,
      "outputs": []
    },
    {
      "cell_type": "code",
      "source": [
        "#QSN10-  How can you append data to an existing file in Python?\n",
        "'''\n",
        "Ans-# Open the file in append mode\n",
        "with open('example.txt', 'a') as file:\n",
        "    # Append a new line to the file\n",
        "    file.write('This is the new content being appended.\\n')\n",
        "    file.write('Another line of appended content.\\n')\n",
        "\n",
        "print(\"Data has been appended to the file.\")\n",
        "'''"
      ],
      "metadata": {
        "id": "_gF3EjszcYI8"
      },
      "execution_count": null,
      "outputs": []
    },
    {
      "cell_type": "code",
      "source": [
        "#QSN11- Write a Python program that uses a try-except block to handle an error when attempting to access adictionary key that doesn't exist?\n",
        "'''\n",
        "Ans- # Sample dictionary\n",
        "my_dict = {'name': 'Alice', 'age': 25, 'city': 'New York'}\n",
        "\n",
        "# Key to be accessed\n",
        "key_to_access = 'country'\n",
        "\n",
        "try:\n",
        "    # Try to access a key that doesn't exist in the dictionary\n",
        "    value = my_dict[key_to_access]\n",
        "    print(f\"The value for the key '{key_to_access}' is: {value}\")\n",
        "except KeyError:\n",
        "    # Handle the error if the key does not exist\n",
        "    print(f\"Error: The key '{key_to_access}' does not exist in the dictionary.\")\n",
        "\n",
        "    OutPut:\n",
        "    Error: The key 'country' does not exist in the dictionary.\n",
        "    '''"
      ],
      "metadata": {
        "id": "Lmyw4spNckSV"
      },
      "execution_count": null,
      "outputs": []
    },
    {
      "cell_type": "code",
      "source": [
        "#QSN12- Write a program that demonstrates using multiple except blocks to handle different types of exceptions?\n",
        "'''\n",
        "Ans- # Sample function to demonstrate multiple exceptions\n",
        "def handle_exceptions():\n",
        "    try:\n",
        "        # Prompt the user for two numbers\n",
        "        num1 = int(input(\"Enter the first number: \"))\n",
        "        num2 = int(input(\"Enter the second number: \"))\n",
        "\n",
        "        # Perform division operation (could raise ZeroDivisionError)\n",
        "        result = num1 / num2\n",
        "        print(f\"The result of {num1} / {num2} is: {result}\")\n",
        "\n",
        "    except ValueError:\n",
        "        # Handle invalid input (non-integer values)\n",
        "        print(\"Error: Invalid input! Please enter valid integers.\")\n",
        "\n",
        "    except ZeroDivisionError:\n",
        "        # Handle division by zero\n",
        "        print(\"Error: Division by zero is not allowed!\")\n",
        "\n",
        "    except Exception as e:\n",
        "        # Catch any other unforeseen exceptions\n",
        "        print(f\"An unexpected error occurred: {e}\")\n",
        "\n",
        "# Call the function\n",
        "handle_exceptions()\n",
        "\n",
        "OutPut:\n",
        "Case 1: Invalid input (non-integer value):\n",
        "Enter the first number: 10\n",
        "Enter the second number: abc\n",
        "Error: Invalid input! Please enter valid integers.\n",
        "\n",
        "Case 2: Division by zero:\n",
        "Enter the first number: 10\n",
        "Enter the second number: 0\n",
        "Error: Division by zero is not allowed!\n",
        "'''"
      ],
      "metadata": {
        "id": "VDUx9_7sc0XQ"
      },
      "execution_count": null,
      "outputs": []
    },
    {
      "cell_type": "code",
      "source": [
        "#QSN13- How would you check if a file exists before attempting to read it in Python?\n",
        "'''\n",
        "Ans- import os\n",
        "\n",
        "file_path = 'example.txt'\n",
        "\n",
        "# Check if the file exists\n",
        "if os.path.exists(file_path):\n",
        "    with open(file_path, 'r') as file:\n",
        "        content = file.read()\n",
        "        print(content)\n",
        "else:\n",
        "    print(f\"The file {file_path} does not exist.\")\n",
        "    '''"
      ],
      "metadata": {
        "id": "2KvPMfkxdJhY"
      },
      "execution_count": null,
      "outputs": []
    },
    {
      "cell_type": "code",
      "source": [
        "#QSN14-  Write a program that uses the logging module to log both informational and error messages?\n",
        "'''\n",
        "Ans- import logging\n",
        "\n",
        "# Set up logging configuration\n",
        "logging.basicConfig(\n",
        "    level=logging.DEBUG,  # Set the logging level to DEBUG to capture all messages\n",
        "    format='%(asctime)s - %(levelname)s - %(message)s',  # Log format\n",
        "    filename='app.log',  # Log to a file\n",
        "    filemode='a'  # Append to the log file if it exists\n",
        ")\n",
        "\n",
        "# Log an informational message\n",
        "logging.info(\"This is an informational message.\")\n",
        "\n",
        "# Log a warning message\n",
        "logging.warning(\"This is a warning message.\")\n",
        "\n",
        "# Log an error message\n",
        "logging.error(\"This is an error message.\")\n",
        "\n",
        "# Example of a function that causes an error and logs it\n",
        "try:\n",
        "    result = 10 / 0  # Division by zero error\n",
        "except ZeroDivisionError as e:\n",
        "    logging.error(\"Error occurred: %s\", e)\n",
        "    '''"
      ],
      "metadata": {
        "id": "6P5nsHDjdmDo"
      },
      "execution_count": null,
      "outputs": []
    },
    {
      "cell_type": "code",
      "source": [
        "#QSN15- Write a Python program that prints the content of a file and handles the case when the file is empty?\n",
        "'''\n",
        "Ans- def read_file(file_path):\n",
        "    try:\n",
        "        # Open the file for reading\n",
        "        with open(file_path, 'r') as file:\n",
        "            content = file.read()\n",
        "\n",
        "            # Check if the file is empty\n",
        "            if content:\n",
        "                print(\"File content:\")\n",
        "                print(content)\n",
        "            else:\n",
        "                print(\"The file is empty.\")\n",
        "    except FileNotFoundError:\n",
        "        print(f\"Error: The file '{file_path}' does not exist.\")\n",
        "    except Exception as e:\n",
        "        print(f\"An error occurred: {e}\")\n",
        "\n",
        "# Test the function\n",
        "file_path = 'example.txt'  # Replace with your file path\n",
        "read_file(file_path)\n",
        "'''"
      ],
      "metadata": {
        "id": "B034c7Qadvuh"
      },
      "execution_count": null,
      "outputs": []
    },
    {
      "cell_type": "code",
      "source": [
        "#QSN16- Demonstrate how to use memory profiling to check the memory usage of a small program?\n",
        "'''\n",
        "Ans- Example Program with Memory Profiling:\n",
        "     from memory_profiler import profile\n",
        "\n",
        "@profile\n",
        "def my_function():\n",
        "    # Creating a list with a large number of integers\n",
        "    a = [x * 2 for x in range(100000)]\n",
        "    print(\"List created with 100000 integers.\")\n",
        "\n",
        "    # Creating a smaller list\n",
        "    b = [x * 3 for x in range(50000)]\n",
        "    print(\"List created with 50000 integers.\")\n",
        "\n",
        "    return a, b\n",
        "\n",
        "if __name__ == '__main__':\n",
        "    my_function()\n",
        "    '''"
      ],
      "metadata": {
        "id": "rmtzW38hd6Mp"
      },
      "execution_count": null,
      "outputs": []
    },
    {
      "cell_type": "code",
      "source": [
        "#QSN17- Write a Python program to create and write a list of numbers to a file, one number per line?\n",
        "'''\n",
        "Ans- def write_numbers_to_file(filename, numbers):\n",
        "    try:\n",
        "        # Open the file in write mode\n",
        "        with open(filename, 'w') as file:\n",
        "            # Iterate through the list of numbers and write each number to the file\n",
        "            for number in numbers:\n",
        "                file.write(f\"{number}\\n\")\n",
        "        print(f\"Numbers have been written to {filename}.\")\n",
        "    except Exception as e:\n",
        "        print(f\"An error occurred: {e}\")\n",
        "\n",
        "# List of numbers to write to the file\n",
        "numbers = [1, 2, 3, 4, 5, 6, 7, 8, 9, 10]\n",
        "\n",
        "# Specify the filename\n",
        "filename = 'numbers.txt'\n",
        "\n",
        "# Call the function to write the list to the file\n",
        "write_numbers_to_file(filename, numbers)\n",
        "'''"
      ],
      "metadata": {
        "id": "ahcEKIoWeIpo"
      },
      "execution_count": null,
      "outputs": []
    },
    {
      "cell_type": "code",
      "source": [
        "#QSN18- How would you implement a basic logging setup that logs to a file with rotation after 1MB?\n",
        "'''\n",
        "Ans- import logging\n",
        "from logging.handlers import RotatingFileHandler\n",
        "\n",
        "# Set up a RotatingFileHandler\n",
        "log_filename = 'app.log'  # Log file name\n",
        "max_log_size = 1 * 1024 * 1024  # 1MB (in bytes)\n",
        "backup_count = 3  # Number of backup log files to keep\n",
        "\n",
        "# Create a logger\n",
        "logger = logging.getLogger('MyLogger')\n",
        "logger.setLevel(logging.DEBUG)  # Set logging level to DEBUG\n",
        "\n",
        "# Create a rotating file handler\n",
        "rotating_handler = RotatingFileHandler(\n",
        "    log_filename, maxBytes=max_log_size, backupCount=backup_count\n",
        ")\n",
        "\n",
        "# Create a formatter and set it for the handler\n",
        "formatter = logging.Formatter('%(asctime)s - %(levelname)s - %(message)s')\n",
        "rotating_handler.setFormatter(formatter)\n",
        "\n",
        "# Add the rotating handler to the logger\n",
        "logger.addHandler(rotating_handler)\n",
        "\n",
        "# Sample log messages\n",
        "logger.debug(\"This is a debug message.\")\n",
        "logger.info(\"This is an info message.\")\n",
        "logger.warning(\"This is a warning message.\")\n",
        "logger.error(\"This is an error message.\")\n",
        "logger.critical(\"This is a critical message.\")\n",
        "\n",
        "print(\"Logging setup complete. Logs are being written to 'app.log'.\")\n",
        "'''"
      ],
      "metadata": {
        "id": "ODMKMChpehkc"
      },
      "execution_count": null,
      "outputs": []
    },
    {
      "cell_type": "code",
      "source": [
        "#QSN19- Write a program that handles both IndexError and KeyError using a try-except block?\n",
        "'''\n",
        "Ans- def handle_exceptions():\n",
        "    my_list = [10, 20, 30, 40]\n",
        "    my_dict = {'a': 1, 'b': 2, 'c': 3}\n",
        "\n",
        "    try:\n",
        "        # Attempting to access an element in the list by index\n",
        "        list_item = my_list[5]  # This will raise IndexError\n",
        "        print(f\"List item: {list_item}\")\n",
        "\n",
        "        # Attempting to access a key in the dictionary\n",
        "        dict_item = my_dict['d']  # This will raise KeyError\n",
        "        print(f\"Dictionary item: {dict_item}\")\n",
        "\n",
        "    except IndexError as ie:\n",
        "        print(f\"IndexError occurred: {ie}\")\n",
        "\n",
        "    except KeyError as ke:\n",
        "        print(f\"KeyError occurred: {ke}\")\n",
        "\n",
        "# Call the function\n",
        "handle_exceptions()\n",
        "'''"
      ],
      "metadata": {
        "id": "tX2FFFKFewe0"
      },
      "execution_count": null,
      "outputs": []
    },
    {
      "cell_type": "code",
      "source": [
        "#QSN20- How would you open a file and read its contents using a context manager in Python?\n",
        "'''\n",
        "Ans- Python Program to Open and Read a File Using a Context Manager:\n",
        "   # Path to the file\n",
        "file_path = 'example.txt'\n",
        "\n",
        "# Using context manager to open and read the file\n",
        "with open(file_path, 'r') as file:\n",
        "    # Read the entire contents of the file\n",
        "    content = file.read()\n",
        "    print(content)\n",
        "    '''"
      ],
      "metadata": {
        "id": "8ysCfs6Re_AG"
      },
      "execution_count": null,
      "outputs": []
    },
    {
      "cell_type": "code",
      "source": [
        "#QSN21- Write a Python program that reads a file and prints the number of occurrences of a specific word?\n",
        "'''\n",
        "Ans- def count_word_occurrences(file_path, word_to_count):\n",
        "    # Initialize a variable to store the word count\n",
        "    word_count = 0\n",
        "\n",
        "    # Open the file using a context manager\n",
        "    with open(file_path, 'r') as file:\n",
        "        # Loop through each line in the file\n",
        "        for line in file:\n",
        "            # Split the line into words and count occurrences of the specific word\n",
        "            word_count += line.lower().split().count(word_to_count.lower())\n",
        "\n",
        "    # Print the result\n",
        "    print(f\"The word '{word_to_count}' appears {word_count} times in the file.\")\n",
        "\n",
        "# Define the path to your file and the word you want to count\n",
        "file_path = 'example.txt'  # Change this to the actual path of your file\n",
        "word_to_count = 'python'   # Change this to the word you want to count\n",
        "\n",
        "# Call the function\n",
        "count_word_occurrences(file_path, word_to_count)\n",
        "'''"
      ],
      "metadata": {
        "id": "s6Q2j6mwfMNd"
      },
      "execution_count": null,
      "outputs": []
    },
    {
      "cell_type": "code",
      "source": [
        "#QSN22-  How can you check if a file is empty before attempting to read its contents?\n",
        "'''\n",
        "Ans- Using os.stat() to Check File Size:\n",
        "   import os\n",
        "\n",
        "def check_if_file_is_empty(file_path):\n",
        "    # Get the size of the file using os.stat()\n",
        "    file_size = os.stat(file_path).st_size\n",
        "\n",
        "    if file_size == 0:\n",
        "        print(f\"The file '{file_path}' is empty.\")\n",
        "    else:\n",
        "        print(f\"The file '{file_path}' is not empty.\")\n",
        "\n",
        "# Test the function\n",
        "file_path = 'example.txt'  # Replace with the path to your file\n",
        "check_if_file_is_empty(file_path)\n",
        "'''"
      ],
      "metadata": {
        "id": "_g5wPeqbfXlk"
      },
      "execution_count": null,
      "outputs": []
    },
    {
      "cell_type": "code",
      "source": [
        "#QSN23- Write a Python program that writes to a log file when an error occurs during file handling?\n",
        "'''\n",
        "Ans- import logging\n",
        "\n",
        "# Set up logging configuration\n",
        "logging.basicConfig(filename='file_handling_errors.log',\n",
        "                    level=logging.ERROR,\n",
        "                    format='%(asctime)s - %(levelname)s - %(message)s')\n",
        "\n",
        "def handle_file(file_path):\n",
        "    try:\n",
        "        # Attempt to open and read the file\n",
        "        with open(file_path, 'r') as file:\n",
        "            content = file.read()\n",
        "            print(content)  # Print file content to console (optional)\n",
        "\n",
        "    except FileNotFoundError as e:\n",
        "        # Log the error if the file is not found\n",
        "        logging.error(f\"File not found: {file_path} - {e}\")\n",
        "        print(f\"Error: The file '{file_path}' was not found.\")\n",
        "\n",
        "    except PermissionError as e:\n",
        "        # Log the error if there is a permission issue\n",
        "        logging.error(f\"Permission error: {file_path} - {e}\")\n",
        "        print(f\"Error: Permission denied when accessing '{file_path}'.\")\n",
        "\n",
        "    except Exception as e:\n",
        "        # Log any other exception that occurs\n",
        "        logging.error(f\"An error occurred: {e}\")\n",
        "        print(f\"An unexpected error occurred: {e}\")\n",
        "\n",
        "# Example usage\n",
        "file_path = 'non_existent_file.txt'  # Change this to the path of your file\n",
        "handle_file(file_path)\n",
        "'''"
      ],
      "metadata": {
        "id": "y5ZuDjGxftCu"
      },
      "execution_count": null,
      "outputs": []
    }
  ]
}